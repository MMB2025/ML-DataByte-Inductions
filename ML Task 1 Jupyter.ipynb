{
 "cells": [
  {
   "cell_type": "code",
   "execution_count": null,
   "id": "ba52e7c9",
   "metadata": {},
   "outputs": [],
   "source": [
    "##taxi fare predictions\n",
    "\n",
    "import pandas as pd\n",
    "#file path\n",
    "taxi_fare_path = \"C:\\\\MMB\\\\EDU\\\\NITT\\\\Clubs,Teams\\\\DataByte\\\\Fare_ pred\\\\Fare_ pred\\\\test_fare for code.csv\"\n",
    "#laoding file as a DataFrame\n",
    "taxi_fare_stat = pd.read_csv(taxi_fare_path)\n",
    "print(taxi_fare_stat.describe())\n",
    "\n",
    "#selecting feature to predcict\n",
    "y = taxi_fare_stat.total_fare\n",
    "\n",
    "#selecting features used to predict\n",
    "taxi_feature_names = ['trip_duration', 'distance_traveled', 'num_of_passengers', 'fare', 'tip', 'miscellaneous_fees']\n",
    "\n",
    "#separating required data\n",
    "X = taxi_fare_stat[taxi_feature_names]\n",
    "\n",
    "from sklearn.tree import DecisionTreeRegressor\n",
    "taxi_model = DecisionTreeRegressor(random_state = 1)\n",
    "\n",
    "taxi_model.fit(X,y)\n",
    "\n",
    "ta_predictions = taxi_model.predict(X)\n",
    "print(ta_predictions)\n",
    "\n",
    "##train fare\n",
    "\n",
    "#file path\n",
    "train_fare_path = \"C:\\\\MMB\\\\EDU\\\\NITT\\\\Clubs,Teams\\\\DataByte\\\\Fare_ pred\\\\Fare_ pred\\\\Train_fare for code.csv\"\n",
    "#laoding file as a DataFrame\n",
    "train_fare_stat = pd.read_csv(train_fare_path)\n",
    "print(train_fare_stat.describe())\n",
    "\n",
    "#selecting feature to predict\n",
    "z = train_fare_stat.total_fare\n",
    "\n",
    "#selecting features used to predict\n",
    "train_feature_names = ['trip_duration', 'distance_traveled', 'distance_traveled.1', 'num_of_passengers', 'fare', 'tip', 'miscellaneous_fees']\n",
    "\n",
    "#separating required data\n",
    "W = train_fare_stat[train_feature_names]\n",
    "\n",
    "train_model = DecisionTreeRegressor(random_state = 2)\n",
    "\n",
    "train_model.fit(W,z)\n",
    "\n",
    "tr_predictions = train_model.predict(W)\n",
    "print(tr_predictions)"
   ]
  }
 ],
 "metadata": {
  "kernelspec": {
   "display_name": "Python 3 (ipykernel)",
   "language": "python",
   "name": "python3"
  },
  "language_info": {
   "codemirror_mode": {
    "name": "ipython",
    "version": 3
   },
   "file_extension": ".py",
   "mimetype": "text/x-python",
   "name": "python",
   "nbconvert_exporter": "python",
   "pygments_lexer": "ipython3",
   "version": "3.11.3"
  }
 },
 "nbformat": 4,
 "nbformat_minor": 5
}
